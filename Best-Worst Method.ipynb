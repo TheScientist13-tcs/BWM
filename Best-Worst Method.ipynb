{
 "cells": [
  {
   "cell_type": "code",
   "execution_count": 21,
   "id": "304f1c60",
   "metadata": {},
   "outputs": [],
   "source": [
    "using JuMP\n",
    "using GLPK\n",
    "using DataFrames\n",
    "using CSV\n",
    "using LinearAlgebra\n",
    "using Random"
   ]
  },
  {
   "cell_type": "markdown",
   "id": "c2038633",
   "metadata": {},
   "source": [
    "# Hyperparameters"
   ]
  },
  {
   "cell_type": "code",
   "execution_count": 44,
   "id": "e88851b0",
   "metadata": {},
   "outputs": [
    {
     "data": {
      "text/plain": [
       "2"
      ]
     },
     "execution_count": 44,
     "metadata": {},
     "output_type": "execute_result"
    }
   ],
   "source": [
    "m = 1000\n",
    "best = 1\n",
    "worst = 2"
   ]
  },
  {
   "cell_type": "code",
   "execution_count": 47,
   "id": "f51f3863",
   "metadata": {},
   "outputs": [
    {
     "data": {
      "text/plain": [
       "1"
      ]
     },
     "execution_count": 47,
     "metadata": {},
     "output_type": "execute_result"
    }
   ],
   "source": [
    "bo_vec = rand((3, 7), (1, m))\n",
    "ow_vec = rand((3, 7), (1, m))\n",
    "bo_vec[1,best] = 1\n",
    "bo_vec[1, worst] = 9\n",
    "ow_vec[1, best] = 9\n",
    "ow_vec[1, worst] = 1"
   ]
  },
  {
   "cell_type": "code",
   "execution_count": 48,
   "id": "3ba35d4c",
   "metadata": {},
   "outputs": [
    {
     "data": {
      "text/plain": [
       "1×1000 Matrix{Int64}:\n",
       " 9  1  7  3  3  7  3  3  7  7  7  3  7  …  3  7  7  3  7  3  7  3  7  3  3  3"
      ]
     },
     "execution_count": 48,
     "metadata": {},
     "output_type": "execute_result"
    }
   ],
   "source": [
    "ow_vec"
   ]
  },
  {
   "cell_type": "markdown",
   "id": "99c4b695",
   "metadata": {},
   "source": [
    "# Best-Worst Method"
   ]
  },
  {
   "cell_type": "code",
   "execution_count": 52,
   "id": "b40a1087",
   "metadata": {},
   "outputs": [
    {
     "data": {
      "text/plain": [
       "1000-element Vector{Float64}:\n",
       " 0.003129634100079308\n",
       " 0.00023278270165879154\n",
       " 0.0005948891264613562\n",
       " 0.0013880746284098309\n",
       " 0.0013880746284098309\n",
       " 0.0005948891264613562\n",
       " 0.0013880746284098309\n",
       " 0.0013880746284098309\n",
       " 0.0013880746284098309\n",
       " 0.0005948891264613562\n",
       " 0.0005948891264613562\n",
       " 0.0005948891264613562\n",
       " 0.0013880746284098309\n",
       " ⋮\n",
       " 0.0013880746284098309\n",
       " 0.0005948891264613562\n",
       " 0.0013880746284098309\n",
       " 0.0005948891264613565\n",
       " 0.0005948891264613562\n",
       " 0.0013880746284098309\n",
       " 0.0013880746284098309\n",
       " 0.0013880746284098309\n",
       " 0.0005948891264613562\n",
       " 0.0005948891264613565\n",
       " 0.0013880746284098309\n",
       " 0.0005948891264613565"
      ]
     },
     "execution_count": 52,
     "metadata": {},
     "output_type": "execute_result"
    }
   ],
   "source": [
    "optimal_priority_weights = zeros(1, m);\n",
    "model = Model(GLPK.Optimizer)\n",
    "@variable(model, w[i=1:m] >= 0)\n",
    "@variable(model, ξ)\n",
    "\n",
    "@objective(model, Min, ξ)\n",
    "@constraint(model, [i=1:m], w[best] - bo_vec[i]*w[i] <= ξ)\n",
    "@constraint(model, [i=1:m], -(w[best] - bo_vec[i]*w[i]) <= ξ)\n",
    "@constraint(model, [i=1:m], w[i] - ow_vec[i]*w[worst] <= ξ)\n",
    "@constraint(model, [i=1:m], -(w[i] - ow_vec[i]*w[worst]) <= ξ)\n",
    "@constraint(model, eqconst, sum(w[i] for i in 1:m) == 1)\n",
    "optimize!(model)\n",
    "optimal_priority_weights = JuMP.value.(w)"
   ]
  },
  {
   "cell_type": "code",
   "execution_count": 50,
   "id": "e471fdf6",
   "metadata": {},
   "outputs": [
    {
     "data": {
      "text/plain": [
       "0.9999999999999991"
      ]
     },
     "execution_count": 50,
     "metadata": {},
     "output_type": "execute_result"
    }
   ],
   "source": [
    "sum(optimal_priority_weights)"
   ]
  }
 ],
 "metadata": {
  "kernelspec": {
   "display_name": "Julia 1.6.2",
   "language": "julia",
   "name": "julia-1.6"
  },
  "language_info": {
   "file_extension": ".jl",
   "mimetype": "application/julia",
   "name": "julia",
   "version": "1.6.2"
  }
 },
 "nbformat": 4,
 "nbformat_minor": 5
}
